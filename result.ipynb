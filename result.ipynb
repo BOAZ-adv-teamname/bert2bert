{
 "metadata": {
  "language_info": {
   "codemirror_mode": {
    "name": "ipython",
    "version": 3
   },
   "file_extension": ".py",
   "mimetype": "text/x-python",
   "name": "python",
   "nbconvert_exporter": "python",
   "pygments_lexer": "ipython3",
   "version": "3.8.3"
  },
  "orig_nbformat": 2,
  "kernelspec": {
   "name": "python3",
   "display_name": "Python 3",
   "language": "python"
  }
 },
 "nbformat": 4,
 "nbformat_minor": 2,
 "cells": [
  {
   "cell_type": "code",
   "execution_count": 1,
   "metadata": {},
   "outputs": [],
   "source": [
    "import pandas as pd\n",
    "import json"
   ]
  },
  {
   "cell_type": "code",
   "execution_count": 6,
   "metadata": {},
   "outputs": [],
   "source": [
    "dat1 = pd.read_csv('./submission_7000_processed.csv')\n",
    "dat2 = pd.read_csv('./submission_25000_processed.csv')\n",
    "dat3 = pd.read_csv('./submission_37000_processed.csv')\n"
   ]
  },
  {
   "cell_type": "code",
   "execution_count": 15,
   "metadata": {},
   "outputs": [],
   "source": [
    "train_data = open(\"dataset/final.jsonl\", \"r\").read().splitlines()\n",
    "train_set = []\n",
    "for data in train_data[:100]:\n",
    "    try:        \n",
    "        data = json.loads(data)\n",
    "        article_original = data[\"original\"].replace('·',\" \")\n",
    "        #article_original = [a.replace(\"\\n\", \" \") for a in article_original]\n",
    "        #article_original = \" \".join(article_original)\n",
    "        abstractive = data[\"summary\"].replace(\"\\\\\",\" \")\n",
    "        train_set.append((article_original, abstractive))\n",
    "    except:\n",
    "        pass"
   ]
  },
  {
   "cell_type": "code",
   "execution_count": 21,
   "metadata": {},
   "outputs": [],
   "source": [
    "sum_res = pd.merge(pd.merge(dat1,dat2,on='id'),dat3,on='id')\n",
    "sum_res.columns = ['id','sum_7000','sum_25000','sum_37000']"
   ]
  },
  {
   "cell_type": "code",
   "execution_count": 20,
   "metadata": {},
   "outputs": [],
   "source": [
    "original = pd.DataFrame(train_set)\n",
    "original.reset_index(inplace=True)\n",
    "original.columns=['id','original','sumarization_answer']\n"
   ]
  },
  {
   "cell_type": "code",
   "execution_count": 23,
   "metadata": {},
   "outputs": [],
   "source": [
    "result = pd.merge(original,sum_res,on='id')"
   ]
  },
  {
   "cell_type": "code",
   "execution_count": 24,
   "metadata": {},
   "outputs": [],
   "source": [
    "result.to_csv('./100_case_result.csv',index=False)"
   ]
  },
  {
   "cell_type": "code",
   "execution_count": null,
   "metadata": {},
   "outputs": [],
   "source": []
  }
 ]
}